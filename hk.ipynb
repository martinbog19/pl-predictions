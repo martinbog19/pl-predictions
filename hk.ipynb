{
 "cells": [
  {
   "cell_type": "code",
   "execution_count": 2,
   "metadata": {},
   "outputs": [],
   "source": [
    "import pandas as pd\n",
    "import numpy as np\n",
    "import requests\n",
    "from bs4 import BeautifulSoup\n",
    "from datetime import datetime, date, timedelta"
   ]
  },
  {
   "cell_type": "code",
   "execution_count": 36,
   "metadata": {},
   "outputs": [
    {
     "ename": "IndexError",
     "evalue": "index 0 is out of bounds for axis 0 with size 0",
     "output_type": "error",
     "traceback": [
      "\u001b[0;31m---------------------------------------------------------------------------\u001b[0m",
      "\u001b[0;31mIndexError\u001b[0m                                Traceback (most recent call last)",
      "Cell \u001b[0;32mIn[36], line 14\u001b[0m\n\u001b[1;32m     12\u001b[0m scores \u001b[38;5;241m=\u001b[39m {}\n\u001b[1;32m     13\u001b[0m \u001b[38;5;28;01mfor\u001b[39;00m name \u001b[38;5;129;01min\u001b[39;00m [\u001b[38;5;124m'\u001b[39m\u001b[38;5;124mAlexis\u001b[39m\u001b[38;5;124m'\u001b[39m, \u001b[38;5;124m'\u001b[39m\u001b[38;5;124mMartin\u001b[39m\u001b[38;5;124m'\u001b[39m, \u001b[38;5;124m'\u001b[39m\u001b[38;5;124mThomas\u001b[39m\u001b[38;5;124m'\u001b[39m] :\n\u001b[0;32m---> 14\u001b[0m     data[\u001b[38;5;124mf\u001b[39m\u001b[38;5;124m'\u001b[39m\u001b[38;5;124mOff\u001b[39m\u001b[38;5;132;01m{\u001b[39;00mname\u001b[38;5;132;01m}\u001b[39;00m\u001b[38;5;124m'\u001b[39m] \u001b[38;5;241m=\u001b[39m [np\u001b[38;5;241m.\u001b[39mabs(np\u001b[38;5;241m.\u001b[39mwhere(data[name] \u001b[38;5;241m==\u001b[39m tm)[\u001b[38;5;241m0\u001b[39m][\u001b[38;5;241m0\u001b[39m] \u001b[38;5;241m-\u001b[39m idx) \u001b[38;5;28;01mfor\u001b[39;00m tm, idx \u001b[38;5;129;01min\u001b[39;00m \u001b[38;5;28mzip\u001b[39m(data\u001b[38;5;241m.\u001b[39mTeam, data\u001b[38;5;241m.\u001b[39mindex)]\n\u001b[1;32m     15\u001b[0m     perfects \u001b[38;5;241m=\u001b[39m (data[\u001b[38;5;124mf\u001b[39m\u001b[38;5;124m'\u001b[39m\u001b[38;5;124mOff\u001b[39m\u001b[38;5;132;01m{\u001b[39;00mname\u001b[38;5;132;01m}\u001b[39;00m\u001b[38;5;124m'\u001b[39m] \u001b[38;5;241m==\u001b[39m \u001b[38;5;241m0\u001b[39m)\u001b[38;5;241m.\u001b[39msum()\n\u001b[1;32m     16\u001b[0m     scores[name] \u001b[38;5;241m=\u001b[39m (\u001b[38;5;241m200\u001b[39m \u001b[38;5;241m-\u001b[39m data[\u001b[38;5;124mf\u001b[39m\u001b[38;5;124m'\u001b[39m\u001b[38;5;124mOff\u001b[39m\u001b[38;5;132;01m{\u001b[39;00mname\u001b[38;5;132;01m}\u001b[39;00m\u001b[38;5;124m'\u001b[39m]\u001b[38;5;241m.\u001b[39msum()) \u001b[38;5;241m/\u001b[39m \u001b[38;5;241m2\u001b[39m \u001b[38;5;241m+\u001b[39m perfects\n",
      "Cell \u001b[0;32mIn[36], line 14\u001b[0m, in \u001b[0;36m<listcomp>\u001b[0;34m(.0)\u001b[0m\n\u001b[1;32m     12\u001b[0m scores \u001b[38;5;241m=\u001b[39m {}\n\u001b[1;32m     13\u001b[0m \u001b[38;5;28;01mfor\u001b[39;00m name \u001b[38;5;129;01min\u001b[39;00m [\u001b[38;5;124m'\u001b[39m\u001b[38;5;124mAlexis\u001b[39m\u001b[38;5;124m'\u001b[39m, \u001b[38;5;124m'\u001b[39m\u001b[38;5;124mMartin\u001b[39m\u001b[38;5;124m'\u001b[39m, \u001b[38;5;124m'\u001b[39m\u001b[38;5;124mThomas\u001b[39m\u001b[38;5;124m'\u001b[39m] :\n\u001b[0;32m---> 14\u001b[0m     data[\u001b[38;5;124mf\u001b[39m\u001b[38;5;124m'\u001b[39m\u001b[38;5;124mOff\u001b[39m\u001b[38;5;132;01m{\u001b[39;00mname\u001b[38;5;132;01m}\u001b[39;00m\u001b[38;5;124m'\u001b[39m] \u001b[38;5;241m=\u001b[39m [np\u001b[38;5;241m.\u001b[39mabs(\u001b[43mnp\u001b[49m\u001b[38;5;241;43m.\u001b[39;49m\u001b[43mwhere\u001b[49m\u001b[43m(\u001b[49m\u001b[43mdata\u001b[49m\u001b[43m[\u001b[49m\u001b[43mname\u001b[49m\u001b[43m]\u001b[49m\u001b[43m \u001b[49m\u001b[38;5;241;43m==\u001b[39;49m\u001b[43m \u001b[49m\u001b[43mtm\u001b[49m\u001b[43m)\u001b[49m\u001b[43m[\u001b[49m\u001b[38;5;241;43m0\u001b[39;49m\u001b[43m]\u001b[49m\u001b[43m[\u001b[49m\u001b[38;5;241;43m0\u001b[39;49m\u001b[43m]\u001b[49m \u001b[38;5;241m-\u001b[39m idx) \u001b[38;5;28;01mfor\u001b[39;00m tm, idx \u001b[38;5;129;01min\u001b[39;00m \u001b[38;5;28mzip\u001b[39m(data\u001b[38;5;241m.\u001b[39mTeam, data\u001b[38;5;241m.\u001b[39mindex)]\n\u001b[1;32m     15\u001b[0m     perfects \u001b[38;5;241m=\u001b[39m (data[\u001b[38;5;124mf\u001b[39m\u001b[38;5;124m'\u001b[39m\u001b[38;5;124mOff\u001b[39m\u001b[38;5;132;01m{\u001b[39;00mname\u001b[38;5;132;01m}\u001b[39;00m\u001b[38;5;124m'\u001b[39m] \u001b[38;5;241m==\u001b[39m \u001b[38;5;241m0\u001b[39m)\u001b[38;5;241m.\u001b[39msum()\n\u001b[1;32m     16\u001b[0m     scores[name] \u001b[38;5;241m=\u001b[39m (\u001b[38;5;241m200\u001b[39m \u001b[38;5;241m-\u001b[39m data[\u001b[38;5;124mf\u001b[39m\u001b[38;5;124m'\u001b[39m\u001b[38;5;124mOff\u001b[39m\u001b[38;5;132;01m{\u001b[39;00mname\u001b[38;5;132;01m}\u001b[39;00m\u001b[38;5;124m'\u001b[39m]\u001b[38;5;241m.\u001b[39msum()) \u001b[38;5;241m/\u001b[39m \u001b[38;5;241m2\u001b[39m \u001b[38;5;241m+\u001b[39m perfects\n",
      "\u001b[0;31mIndexError\u001b[0m: index 0 is out of bounds for axis 0 with size 0"
     ]
    }
   ],
   "source": [
    "# Read in the predictions\n",
    "pred = pd.read_csv('PredBeta.csv')\n",
    "# Scrape the actual standings\n",
    "url = 'https://fbref.com/en/comps/9/Premier-League-Stats'\n",
    "page = requests.get(url)\n",
    "soup = BeautifulSoup(page.content, 'html')\n",
    "table = soup.find('table')\n",
    "standings = pd.read_html(str(table))[0][['Squad']].rename(columns = {'Squad': 'Team'})\n",
    "# Merge standings and predictions\n",
    "data = pd.concat([standings, pred], axis = 1)\n",
    "# Compute by how much each players are off and score\n",
    "scores = {}\n",
    "for name in ['Alexis', 'Martin', 'Thomas'] :\n",
    "    data[f'Off{name}'] = [np.abs(np.where(data[name] == tm)[0][0] - idx) for tm, idx in zip(data.Team, data.index)]\n",
    "    perfects = (data[f'Off{name}'] == 0).sum()\n",
    "    scores[name] = (200 - data[f'Off{name}'].sum()) / 2 + perfects\n",
    "\n",
    "print(scores)"
   ]
  },
  {
   "cell_type": "code",
   "execution_count": 37,
   "metadata": {},
   "outputs": [
    {
     "data": {
      "text/html": [
       "<div>\n",
       "<style scoped>\n",
       "    .dataframe tbody tr th:only-of-type {\n",
       "        vertical-align: middle;\n",
       "    }\n",
       "\n",
       "    .dataframe tbody tr th {\n",
       "        vertical-align: top;\n",
       "    }\n",
       "\n",
       "    .dataframe thead th {\n",
       "        text-align: right;\n",
       "    }\n",
       "</style>\n",
       "<table border=\"1\" class=\"dataframe\">\n",
       "  <thead>\n",
       "    <tr style=\"text-align: right;\">\n",
       "      <th></th>\n",
       "      <th>Team</th>\n",
       "      <th>Alexis</th>\n",
       "      <th>Martin</th>\n",
       "      <th>Thomas</th>\n",
       "      <th>OffAlexis</th>\n",
       "    </tr>\n",
       "  </thead>\n",
       "  <tbody>\n",
       "    <tr>\n",
       "      <th>0</th>\n",
       "      <td>Arsenal</td>\n",
       "      <td>Arsenal</td>\n",
       "      <td>Man City</td>\n",
       "      <td>Arsenal</td>\n",
       "      <td>0</td>\n",
       "    </tr>\n",
       "    <tr>\n",
       "      <th>1</th>\n",
       "      <td>Aston Villa</td>\n",
       "      <td>Aston Villa</td>\n",
       "      <td>Arsenal</td>\n",
       "      <td>Aston Villa</td>\n",
       "      <td>0</td>\n",
       "    </tr>\n",
       "    <tr>\n",
       "      <th>2</th>\n",
       "      <td>Bournemouth</td>\n",
       "      <td>Bournemouth</td>\n",
       "      <td>Liverpool</td>\n",
       "      <td>Bournemouth</td>\n",
       "      <td>0</td>\n",
       "    </tr>\n",
       "    <tr>\n",
       "      <th>3</th>\n",
       "      <td>Brentford</td>\n",
       "      <td>Brentford</td>\n",
       "      <td>Manchester Utd</td>\n",
       "      <td>Brentford</td>\n",
       "      <td>0</td>\n",
       "    </tr>\n",
       "    <tr>\n",
       "      <th>4</th>\n",
       "      <td>Brighton</td>\n",
       "      <td>Brighton</td>\n",
       "      <td>Aston Villa</td>\n",
       "      <td>Brighton</td>\n",
       "      <td>0</td>\n",
       "    </tr>\n",
       "    <tr>\n",
       "      <th>5</th>\n",
       "      <td>Burnley</td>\n",
       "      <td>Burnley</td>\n",
       "      <td>Chelsea</td>\n",
       "      <td>Burnley</td>\n",
       "      <td>0</td>\n",
       "    </tr>\n",
       "    <tr>\n",
       "      <th>6</th>\n",
       "      <td>Chelsea</td>\n",
       "      <td>Chelsea</td>\n",
       "      <td>Newcastle Utd</td>\n",
       "      <td>Chelsea</td>\n",
       "      <td>0</td>\n",
       "    </tr>\n",
       "    <tr>\n",
       "      <th>7</th>\n",
       "      <td>Crystal Palace</td>\n",
       "      <td>Crystal Palace</td>\n",
       "      <td>Brighton</td>\n",
       "      <td>Crystal Palace</td>\n",
       "      <td>0</td>\n",
       "    </tr>\n",
       "    <tr>\n",
       "      <th>8</th>\n",
       "      <td>Everton</td>\n",
       "      <td>Everton</td>\n",
       "      <td>Tottenham</td>\n",
       "      <td>Everton</td>\n",
       "      <td>0</td>\n",
       "    </tr>\n",
       "    <tr>\n",
       "      <th>9</th>\n",
       "      <td>Fulham</td>\n",
       "      <td>Fulham</td>\n",
       "      <td>Brentford</td>\n",
       "      <td>Fulham</td>\n",
       "      <td>0</td>\n",
       "    </tr>\n",
       "    <tr>\n",
       "      <th>10</th>\n",
       "      <td>Liverpool</td>\n",
       "      <td>Liverpool</td>\n",
       "      <td>West Ham</td>\n",
       "      <td>Liverpool</td>\n",
       "      <td>0</td>\n",
       "    </tr>\n",
       "    <tr>\n",
       "      <th>11</th>\n",
       "      <td>Luton Town</td>\n",
       "      <td>Luton Town</td>\n",
       "      <td>Fulham</td>\n",
       "      <td>Luton Town</td>\n",
       "      <td>0</td>\n",
       "    </tr>\n",
       "    <tr>\n",
       "      <th>12</th>\n",
       "      <td>Manchester City</td>\n",
       "      <td>Manchester City</td>\n",
       "      <td>Bournemouth</td>\n",
       "      <td>Manchester City</td>\n",
       "      <td>0</td>\n",
       "    </tr>\n",
       "    <tr>\n",
       "      <th>13</th>\n",
       "      <td>Manchester Utd</td>\n",
       "      <td>Manchester Utd</td>\n",
       "      <td>Burnley</td>\n",
       "      <td>Manchester Utd</td>\n",
       "      <td>0</td>\n",
       "    </tr>\n",
       "    <tr>\n",
       "      <th>14</th>\n",
       "      <td>Newcastle Utd</td>\n",
       "      <td>Newcastle Utd</td>\n",
       "      <td>Crystal Palace</td>\n",
       "      <td>Newcastle Utd</td>\n",
       "      <td>0</td>\n",
       "    </tr>\n",
       "    <tr>\n",
       "      <th>15</th>\n",
       "      <td>Nott'ham Forest</td>\n",
       "      <td>Nott'ham Forest</td>\n",
       "      <td>Everton</td>\n",
       "      <td>Nott'ham Forest</td>\n",
       "      <td>0</td>\n",
       "    </tr>\n",
       "    <tr>\n",
       "      <th>16</th>\n",
       "      <td>Sheffield Utd</td>\n",
       "      <td>Sheffield Utd</td>\n",
       "      <td>Luton Town</td>\n",
       "      <td>Sheffield Utd</td>\n",
       "      <td>0</td>\n",
       "    </tr>\n",
       "    <tr>\n",
       "      <th>17</th>\n",
       "      <td>Tottenham</td>\n",
       "      <td>Tottenham</td>\n",
       "      <td>Nott'm Forest</td>\n",
       "      <td>Tottenham</td>\n",
       "      <td>0</td>\n",
       "    </tr>\n",
       "    <tr>\n",
       "      <th>18</th>\n",
       "      <td>West Ham</td>\n",
       "      <td>West Ham</td>\n",
       "      <td>Wolves</td>\n",
       "      <td>West Ham</td>\n",
       "      <td>0</td>\n",
       "    </tr>\n",
       "    <tr>\n",
       "      <th>19</th>\n",
       "      <td>Wolves</td>\n",
       "      <td>Wolves</td>\n",
       "      <td>Sheffield Utd</td>\n",
       "      <td>Wolves</td>\n",
       "      <td>0</td>\n",
       "    </tr>\n",
       "  </tbody>\n",
       "</table>\n",
       "</div>"
      ],
      "text/plain": [
       "               Team           Alexis          Martin           Thomas  \\\n",
       "0           Arsenal          Arsenal        Man City          Arsenal   \n",
       "1       Aston Villa      Aston Villa         Arsenal      Aston Villa   \n",
       "2       Bournemouth      Bournemouth       Liverpool      Bournemouth   \n",
       "3         Brentford        Brentford  Manchester Utd        Brentford   \n",
       "4          Brighton         Brighton     Aston Villa         Brighton   \n",
       "5           Burnley          Burnley         Chelsea          Burnley   \n",
       "6           Chelsea          Chelsea   Newcastle Utd          Chelsea   \n",
       "7    Crystal Palace   Crystal Palace        Brighton   Crystal Palace   \n",
       "8           Everton          Everton       Tottenham          Everton   \n",
       "9            Fulham           Fulham       Brentford           Fulham   \n",
       "10        Liverpool        Liverpool        West Ham        Liverpool   \n",
       "11       Luton Town       Luton Town          Fulham       Luton Town   \n",
       "12  Manchester City  Manchester City     Bournemouth  Manchester City   \n",
       "13   Manchester Utd   Manchester Utd         Burnley   Manchester Utd   \n",
       "14    Newcastle Utd    Newcastle Utd  Crystal Palace    Newcastle Utd   \n",
       "15  Nott'ham Forest  Nott'ham Forest         Everton  Nott'ham Forest   \n",
       "16    Sheffield Utd    Sheffield Utd      Luton Town    Sheffield Utd   \n",
       "17        Tottenham        Tottenham   Nott'm Forest        Tottenham   \n",
       "18         West Ham         West Ham          Wolves         West Ham   \n",
       "19           Wolves           Wolves   Sheffield Utd           Wolves   \n",
       "\n",
       "    OffAlexis  \n",
       "0           0  \n",
       "1           0  \n",
       "2           0  \n",
       "3           0  \n",
       "4           0  \n",
       "5           0  \n",
       "6           0  \n",
       "7           0  \n",
       "8           0  \n",
       "9           0  \n",
       "10          0  \n",
       "11          0  \n",
       "12          0  \n",
       "13          0  \n",
       "14          0  \n",
       "15          0  \n",
       "16          0  \n",
       "17          0  \n",
       "18          0  \n",
       "19          0  "
      ]
     },
     "execution_count": 37,
     "metadata": {},
     "output_type": "execute_result"
    }
   ],
   "source": [
    "data"
   ]
  },
  {
   "cell_type": "code",
   "execution_count": 7,
   "metadata": {},
   "outputs": [
    {
     "data": {
      "text/plain": [
       "0"
      ]
     },
     "execution_count": 7,
     "metadata": {},
     "output_type": "execute_result"
    }
   ],
   "source": [
    "pd.read_html(str(table))[0].MP.sum()"
   ]
  },
  {
   "cell_type": "code",
   "execution_count": 6,
   "metadata": {},
   "outputs": [
    {
     "data": {
      "text/plain": [
       "'2023-08-09'"
      ]
     },
     "execution_count": 6,
     "metadata": {},
     "output_type": "execute_result"
    }
   ],
   "source": [
    "str(date.today())"
   ]
  },
  {
   "cell_type": "code",
   "execution_count": 67,
   "metadata": {},
   "outputs": [
    {
     "data": {
      "text/html": [
       "<div>\n",
       "<style scoped>\n",
       "    .dataframe tbody tr th:only-of-type {\n",
       "        vertical-align: middle;\n",
       "    }\n",
       "\n",
       "    .dataframe tbody tr th {\n",
       "        vertical-align: top;\n",
       "    }\n",
       "\n",
       "    .dataframe thead th {\n",
       "        text-align: right;\n",
       "    }\n",
       "</style>\n",
       "<table border=\"1\" class=\"dataframe\">\n",
       "  <thead>\n",
       "    <tr style=\"text-align: right;\">\n",
       "      <th></th>\n",
       "      <th>0</th>\n",
       "      <th>1</th>\n",
       "      <th>2</th>\n",
       "      <th>3</th>\n",
       "    </tr>\n",
       "  </thead>\n",
       "  <tbody>\n",
       "    <tr>\n",
       "      <th>0</th>\n",
       "      <td>2023-08-08</td>\n",
       "      <td>120.0</td>\n",
       "      <td>120.0</td>\n",
       "      <td>120.0</td>\n",
       "    </tr>\n",
       "  </tbody>\n",
       "</table>\n",
       "</div>"
      ],
      "text/plain": [
       "            0      1      2      3\n",
       "0  2023-08-08  120.0  120.0  120.0"
      ]
     },
     "execution_count": 67,
     "metadata": {},
     "output_type": "execute_result"
    }
   ],
   "source": [
    "pd.DataFrame([[date.today()] + list(scores.values())])"
   ]
  },
  {
   "cell_type": "code",
   "execution_count": 93,
   "metadata": {},
   "outputs": [],
   "source": [
    "import matplotlib.pyplot as plt\n",
    "\n",
    "plt.rcParams['font.family'] = 'futura'"
   ]
  },
  {
   "cell_type": "code",
   "execution_count": 124,
   "metadata": {},
   "outputs": [
    {
     "data": {
      "image/png": "[encoded data removed]",
      "text/plain": [
       "<Figure size 1200x600 with 1 Axes>"
      ]
     },
     "metadata": {},
     "output_type": "display_data"
    }
   ],
   "source": [
    "fig, ax = plt.subplots(figsize = (12, 6), facecolor = 'black')\n",
    "\n",
    "plt.gca().set_facecolor('black')\n",
    "plt.plot(time, x, c = 'red', marker = 'o', label = 'Martin')\n",
    "plt.plot(time, y, c = 'blue', marker = 'o', label = 'Thomas')\n",
    "plt.plot(time, z, c = 'green', marker = 'o', label = 'Alexis')\n",
    "\n",
    "plt.xticks(time[1::int(len(x)/5)], pd.Series(time).apply(lambda x: datetime.strftime(x, '%d %b %y'))[1::int(len(x)/5)], color = 'white', size = 16)\n",
    "plt.yticks(np.arange(0, 120, 20), np.arange(0, 120, 20), color = 'white', size = 12)\n",
    "plt.ylabel('Score', size = 20, color = 'white')\n",
    "\n",
    "plt.grid(axis = 'y', color = 'white', linestyle = ':', alpha = 0.8)\n",
    "plt.ylim([0, 120])\n",
    "\n",
    "ax.spines['left'].set_color('white'); ax.spines['right'].set_color('white')\n",
    "ax.spines['bottom'].set_color('white'); ax.spines['top'].set_color('white') \n",
    "\n",
    "lgd = plt.legend(edgecolor = 'white', labelcolor = 'white', fontsize = 16, loc = 'lower right')\n",
    "lgd.get_frame().set_facecolor('black')\n",
    "\n",
    "plt.show()"
   ]
  },
  {
   "cell_type": "code",
   "execution_count": 74,
   "metadata": {},
   "outputs": [],
   "source": [
    "x, y, z = np.linspace(80, 80, 20), np.linspace(80, 80, 20), np.linspace(80, 80, 20)"
   ]
  },
  {
   "cell_type": "code",
   "execution_count": 75,
   "metadata": {},
   "outputs": [],
   "source": [
    "x = x + np.random.normal(0, 10, x.shape)\n",
    "y = y + np.random.normal(0, 10, y.shape)\n",
    "z = z + np.random.normal(0, 10, z.shape)"
   ]
  },
  {
   "cell_type": "code",
   "execution_count": 101,
   "metadata": {},
   "outputs": [],
   "source": [
    "time = [date.today()]\n",
    "for i in range(19):\n",
    "\n",
    "    time.append(date.today() + timedelta(days = 7 * (i+1)))"
   ]
  },
  {
   "cell_type": "code",
   "execution_count": null,
   "metadata": {},
   "outputs": [],
   "source": []
  },
  {
   "cell_type": "code",
   "execution_count": null,
   "metadata": {},
   "outputs": [],
   "source": []
  },
  {
   "cell_type": "code",
   "execution_count": 125,
   "metadata": {},
   "outputs": [],
   "source": [
    "import smtplib\n",
    "from email.mime.multipart import MIMEMultipart\n",
    "from email.mime.text import MIMEText\n",
    "from email.mime.image import MIMEImage\n"
   ]
  },
  {
   "cell_type": "code",
   "execution_count": 129,
   "metadata": {},
   "outputs": [],
   "source": [
    "# Create a MIMEMultipart object\n",
    "msg = MIMEMultipart()\n",
    "\n",
    "# Set the sender and recipient addresses\n",
    "msg['Subject'] = 'Test'\n",
    "\n",
    "my_mail = 'martinbog19@gmail.com'\n",
    "\n",
    "# Create the email body as HTML\n",
    "html = \"\"\"\n",
    "<html>\n",
    "<body>\n",
    "<p>Hello, this is the text of the email.</p>\n",
    "<p><img src=\"cid:image1\" alt=\"Image\"></p>\n",
    "</body>\n",
    "</html>\n",
    "\"\"\"\n",
    "msg.attach(MIMEText(html, 'html'))\n",
    "\n",
    "# Read and attach the image\n",
    "with open('image.jpg', 'rb') as img_file:\n",
    "    img = MIMEImage(img_file.read())\n",
    "    img.add_header('Content-ID', '<image1>')\n",
    "    msg.attach(img)"
   ]
  },
  {
   "cell_type": "code",
   "execution_count": 130,
   "metadata": {},
   "outputs": [
    {
     "name": "stdout",
     "output_type": "stream",
     "text": [
      "Email sent successfully!\n"
     ]
    }
   ],
   "source": [
    "# Set up the SMTP server and send the email\n",
    "smtp_username = 'your_email@example.com'\n",
    "smtp_password = 'your_email_password'\n",
    "\n",
    "try:\n",
    "    server = smtplib.SMTP('smtp.gmail.com', 587)\n",
    "    server.starttls()\n",
    "    server.login(my_mail, 'khnmjafadwysyyvd')\n",
    "    server.sendmail(my_mail, my_mail, msg.as_string())\n",
    "    print(\"Email sent successfully!\")\n",
    "except Exception as e:\n",
    "    print(\"Error sending email:\", str(e))\n",
    "finally:\n",
    "    server.quit()"
   ]
  },
  {
   "cell_type": "code",
   "execution_count": 10,
   "metadata": {},
   "outputs": [
    {
     "data": {
      "text/plain": [
       "[]"
      ]
     },
     "execution_count": 10,
     "metadata": {},
     "output_type": "execute_result"
    }
   ],
   "source": [
    "import os\n",
    "os.listdir('results/')"
   ]
  },
  {
   "cell_type": "code",
   "execution_count": 13,
   "metadata": {},
   "outputs": [
    {
     "data": {
      "text/plain": [
       "'Alexis'"
      ]
     },
     "execution_count": 13,
     "metadata": {},
     "output_type": "execute_result"
    }
   ],
   "source": [
    "['Alexis', 'Martin', 'Thomas'][np.argmax([80, 80, 60])]"
   ]
  },
  {
   "cell_type": "code",
   "execution_count": 52,
   "metadata": {},
   "outputs": [
    {
     "name": "stdout",
     "output_type": "stream",
     "text": [
      "Alexis & Martin are leading the way with 90% !\n"
     ]
    }
   ],
   "source": [
    "l = [90, 90, 80]\n",
    "leaders = list(np.array(['Alexis', 'Martin', 'Thomas'])[(np.argwhere(l == np.max(l)).flatten())])\n",
    "mult = len(leaders) > 1\n",
    "print(f'{\" & \".join(leaders)} {mult*\"are\"}{(1 - mult) * \"is\"} leading the way with {np.max(l)} points!')"
   ]
  },
  {
   "cell_type": "code",
   "execution_count": 24,
   "metadata": {},
   "outputs": [],
   "source": [
    "names = ['Alexis', 'Martin', 'Thomas']\n",
    "scores = [100, 120, 110]"
   ]
  },
  {
   "cell_type": "code",
   "execution_count": 25,
   "metadata": {},
   "outputs": [],
   "source": [
    "comb = zip(names, scores)"
   ]
  },
  {
   "cell_type": "code",
   "execution_count": 26,
   "metadata": {},
   "outputs": [],
   "source": [
    "sortedc= sorted(comb, key = lambda x: x[1], reverse = True)"
   ]
  },
  {
   "cell_type": "code",
   "execution_count": 27,
   "metadata": {},
   "outputs": [],
   "source": [
    "sorted_names, sorted_scores = zip(*sortedc)"
   ]
  },
  {
   "cell_type": "code",
   "execution_count": 28,
   "metadata": {},
   "outputs": [
    {
     "data": {
      "text/plain": [
       "('Martin', 'Thomas', 'Alexis')"
      ]
     },
     "execution_count": 28,
     "metadata": {},
     "output_type": "execute_result"
    }
   ],
   "source": [
    "sorted_names"
   ]
  },
  {
   "cell_type": "code",
   "execution_count": 29,
   "metadata": {},
   "outputs": [
    {
     "data": {
      "text/plain": [
       "(120, 110, 100)"
      ]
     },
     "execution_count": 29,
     "metadata": {},
     "output_type": "execute_result"
    }
   ],
   "source": [
    "sorted_scores"
   ]
  },
  {
   "cell_type": "code",
   "execution_count": 35,
   "metadata": {},
   "outputs": [
    {
     "data": {
      "text/plain": [
       "0"
      ]
     },
     "execution_count": 35,
     "metadata": {},
     "output_type": "execute_result"
    }
   ],
   "source": [
    "np.where(np.array(sorted_names) == 'Martin')[0][0]"
   ]
  },
  {
   "cell_type": "code",
   "execution_count": 34,
   "metadata": {},
   "outputs": [
    {
     "data": {
      "text/plain": [
       "array(['Martin', 'Thomas', 'Alexis'], dtype='<U6')"
      ]
     },
     "execution_count": 34,
     "metadata": {},
     "output_type": "execute_result"
    }
   ],
   "source": [
    "np.array(sorted_names)"
   ]
  },
  {
   "cell_type": "code",
   "execution_count": null,
   "metadata": {},
   "outputs": [],
   "source": []
  }
 ],
 "metadata": {
  "kernelspec": {
   "display_name": "Python 3.10.10 ('nbaenv')",
   "language": "python",
   "name": "python3"
  },
  "language_info": {
   "codemirror_mode": {
    "name": "ipython",
    "version": 3
   },
   "file_extension": ".py",
   "mimetype": "text/x-python",
   "name": "python",
   "nbconvert_exporter": "python",
   "pygments_lexer": "ipython3",
   "version": "3.10.10"
  },
  "orig_nbformat": 4,
  "vscode": {
   "interpreter": {
    "hash": "8158d229fe7301e640acb43d488c0efce3cd8ada31ff414dc1808c070c07cefa"
   }
  }
 },
 "nbformat": 4,
 "nbformat_minor": 2
}
